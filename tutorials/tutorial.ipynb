{
 "cells": [
  {
   "cell_type": "code",
   "execution_count": 1,
   "metadata": {},
   "outputs": [],
   "source": [
    "import sys\n",
    "sys.path.append('..')\n",
    "import numpy as np\n",
    "from pysrc.pamm import PAMM"
   ]
  },
  {
   "cell_type": "markdown",
   "metadata": {},
   "source": [
    "# Global"
   ]
  },
  {
   "cell_type": "markdown",
   "metadata": {},
   "source": [
    "Be careful! Very time-consuming"
   ]
  },
  {
   "cell_type": "code",
   "execution_count": 2,
   "metadata": {},
   "outputs": [],
   "source": [
    "runner = PAMM(dimension=30,\n",
    "              period_text='6.28,6.28,6.28,6.28,6.28,6.28,6.28,6.28,6.28,6.28,6.28,6.28,6.28,6.28,6.28,6.28,6.28,6.28,6.28,6.28,6.28,6.28,6.28,6.28,6.28,6.28,6.28,6.28,6.28,6.28',\n",
    "              ngrid=10000,\n",
    "              gridfile='/home/qjxu/pamm/examples/betahairpin/GLOBAL/ref.idxs',\n",
    "              savevor=True,\n",
    "              fpoints=0.1,\n",
    "              qs=1,\n",
    "              outputfile='fp0.1-qs1',\n",
    "              verbose=True)"
   ]
  },
  {
   "cell_type": "code",
   "execution_count": 3,
   "metadata": {},
   "outputs": [],
   "source": [
    "samples = np.loadtxt('/home/qjxu/pamm/examples/betahairpin/GLOBAL/colvar.wt.30cv.4')"
   ]
  },
  {
   "cell_type": "code",
   "execution_count": 5,
   "metadata": {},
   "outputs": [
    {
     "ename": "KeyboardInterrupt",
     "evalue": "",
     "output_type": "error",
     "traceback": [
      "\u001b[0;31m---------------------------------------------------------------------------\u001b[0m",
      "\u001b[0;31mKeyboardInterrupt\u001b[0m                         Traceback (most recent call last)",
      "\u001b[1;32m/home/qjxu/pamm/tutorials/tutorial.ipynb 单元格 5\u001b[0m line \u001b[0;36m1\n\u001b[0;32m----> <a href='vscode-notebook-cell://wsl%2Bubuntu/home/qjxu/pamm/tutorials/tutorial.ipynb#W3sdnNjb2RlLXJlbW90ZQ%3D%3D?line=0'>1</a>\u001b[0m results \u001b[39m=\u001b[39m runner\u001b[39m.\u001b[39mrun(samples)\n",
      "File \u001b[0;32m~/pamm/tutorials/../pysrc/pamm.py:197\u001b[0m, in \u001b[0;36mPAMM.run\u001b[0;34m(self, descriptors, weights)\u001b[0m\n\u001b[1;32m    195\u001b[0m     igrid \u001b[39m=\u001b[39m \u001b[39mself\u001b[39m\u001b[39m.\u001b[39mcal_grid()\n\u001b[1;32m    196\u001b[0m \u001b[39mself\u001b[39m\u001b[39m.\u001b[39mgrid_pos \u001b[39m=\u001b[39m \u001b[39mself\u001b[39m\u001b[39m.\u001b[39mdescriptor[igrid]\n\u001b[0;32m--> 197\u001b[0m \u001b[39mself\u001b[39m\u001b[39m.\u001b[39mgrid_npoints, \u001b[39mself\u001b[39m\u001b[39m.\u001b[39mgrid_weight, \u001b[39mself\u001b[39m\u001b[39m.\u001b[39mgrid_neighbour \u001b[39m=\u001b[39m \u001b[39mself\u001b[39m\u001b[39m.\u001b[39mclustering()\n\u001b[1;32m    198\u001b[0m dist_matrix \u001b[39m=\u001b[39m \u001b[39mself\u001b[39m\u001b[39m.\u001b[39mget_grid_dist_matrix()\n\u001b[1;32m    199\u001b[0m \u001b[39mself\u001b[39m\u001b[39m.\u001b[39mdist_matrix \u001b[39m=\u001b[39m dist_matrix\n",
      "File \u001b[0;32m~/pamm/tutorials/../pysrc/pamm.py:280\u001b[0m, in \u001b[0;36mPAMM.clustering\u001b[0;34m(self)\u001b[0m\n\u001b[1;32m    278\u001b[0m \u001b[39m# assign samples to its cloeset grid\u001b[39;00m\n\u001b[1;32m    279\u001b[0m \u001b[39mfor\u001b[39;00m descriptor \u001b[39min\u001b[39;00m \u001b[39mself\u001b[39m\u001b[39m.\u001b[39mdescriptor:\n\u001b[0;32m--> 280\u001b[0m     descriptor2grid \u001b[39m=\u001b[39m pammr2(\u001b[39mself\u001b[39m\u001b[39m.\u001b[39mperiod, descriptor, \u001b[39mself\u001b[39m\u001b[39m.\u001b[39mgrid_pos)\n\u001b[1;32m    281\u001b[0m     labels\u001b[39m.\u001b[39mappend(np\u001b[39m.\u001b[39margmin(descriptor2grid))\n\u001b[1;32m    283\u001b[0m \u001b[39mfor\u001b[39;00m ipoint, label \u001b[39min\u001b[39;00m \u001b[39menumerate\u001b[39m(labels):\n",
      "File \u001b[0;32m~/pamm/tutorials/../pysrc/utils/dist.py:10\u001b[0m, in \u001b[0;36mpammr2\u001b[0;34m(period, xi, xj)\u001b[0m\n\u001b[1;32m      7\u001b[0m     xi \u001b[39m=\u001b[39m xi[np\u001b[39m.\u001b[39mnewaxis, :]\n\u001b[1;32m      9\u001b[0m xij \u001b[39m=\u001b[39m np\u001b[39m.\u001b[39mzeros(xi\u001b[39m.\u001b[39mshape, dtype\u001b[39m=\u001b[39m\u001b[39mfloat\u001b[39m)\n\u001b[0;32m---> 10\u001b[0m xij \u001b[39m=\u001b[39m pammrij(period, xij, xi, xj)\n\u001b[1;32m     12\u001b[0m \u001b[39mreturn\u001b[39;00m np\u001b[39m.\u001b[39msum(xij\u001b[39m*\u001b[39m\u001b[39m*\u001b[39m\u001b[39m2\u001b[39m, axis\u001b[39m=\u001b[39m\u001b[39m1\u001b[39m)\n",
      "File \u001b[0;32m~/miniconda3/envs/pamm/lib/python3.11/site-packages/numba/core/serialize.py:30\u001b[0m, in \u001b[0;36m_numba_unpickle\u001b[0;34m(address, bytedata, hashed)\u001b[0m\n\u001b[1;32m     26\u001b[0m \u001b[39m# Keep unpickled object via `numba_unpickle` alive.\u001b[39;00m\n\u001b[1;32m     27\u001b[0m _unpickled_memo \u001b[39m=\u001b[39m {}\n\u001b[0;32m---> 30\u001b[0m \u001b[39mdef\u001b[39;00m \u001b[39m_numba_unpickle\u001b[39m(address, bytedata, hashed):\n\u001b[1;32m     31\u001b[0m \u001b[39m    \u001b[39m\u001b[39m\"\"\"Used by `numba_unpickle` from _helperlib.c\u001b[39;00m\n\u001b[1;32m     32\u001b[0m \n\u001b[1;32m     33\u001b[0m \u001b[39m    Parameters\u001b[39;00m\n\u001b[0;32m   (...)\u001b[0m\n\u001b[1;32m     42\u001b[0m \u001b[39m        unpickled object\u001b[39;00m\n\u001b[1;32m     43\u001b[0m \u001b[39m    \"\"\"\u001b[39;00m\n\u001b[1;32m     44\u001b[0m     key \u001b[39m=\u001b[39m (address, hashed)\n",
      "\u001b[0;31mKeyboardInterrupt\u001b[0m: "
     ]
    }
   ],
   "source": [
    "results = runner.run(samples)"
   ]
  },
  {
   "cell_type": "markdown",
   "metadata": {},
   "source": [
    "# LOCAL"
   ]
  },
  {
   "cell_type": "code",
   "execution_count": 6,
   "metadata": {},
   "outputs": [],
   "source": [
    "samples = np.loadtxt('/home/qjxu/pamm/examples/betahairpin/GLOBAL/colvar.wt.30cv.4')"
   ]
  },
  {
   "cell_type": "code",
   "execution_count": 8,
   "metadata": {},
   "outputs": [],
   "source": [
    "local_samples = \\\n",
    "    np.concatenate(\n",
    "        [[[sample[i], sample[i + 16]] for i in range(14)\n",
    "            ] for sample in samples])"
   ]
  },
  {
   "cell_type": "code",
   "execution_count": 10,
   "metadata": {},
   "outputs": [
    {
     "data": {
      "text/plain": [
       "(2100000, 2)"
      ]
     },
     "execution_count": 10,
     "metadata": {},
     "output_type": "execute_result"
    }
   ],
   "source": [
    "local_samples.shape"
   ]
  },
  {
   "cell_type": "code",
   "execution_count": 13,
   "metadata": {},
   "outputs": [],
   "source": [
    "runner = PAMM(dimension=2,\n",
    "              period_text='6.28,6.28',\n",
    "              ngrid=5000,\n",
    "              gridfile='/home/qjxu/pamm/examples/betahairpin/LOCAL/ref.idxs',\n",
    "              savevor=True,\n",
    "              fpoints=0.15,\n",
    "              qs=1,\n",
    "              outputfile='fp0.15-qs1',\n",
    "              verbose=True)"
   ]
  },
  {
   "cell_type": "code",
   "execution_count": 14,
   "metadata": {},
   "outputs": [
    {
     "name": "stdout",
     "output_type": "stream",
     "text": [
      " Precalculate distance matrix between grid points\n",
      "Global eff. dim. 1.7461487521511172\n",
      "Estimating kernel density bandwidths\n",
      "  0 / 5000\n",
      "  100 / 5000\n",
      "  200 / 5000\n",
      "  300 / 5000\n",
      "  400 / 5000\n",
      "  500 / 5000\n",
      "  600 / 5000\n",
      "  700 / 5000\n",
      "  800 / 5000\n",
      "  900 / 5000\n",
      "  1000 / 5000\n",
      "  1100 / 5000\n",
      "  1200 / 5000\n",
      "  1300 / 5000\n",
      "  1400 / 5000\n",
      "  1500 / 5000\n",
      "  1600 / 5000\n",
      "  1700 / 5000\n",
      "  1800 / 5000\n",
      "  1900 / 5000\n",
      "  2000 / 5000\n",
      "  2100 / 5000\n",
      "  2200 / 5000\n",
      "  2300 / 5000\n",
      "  2400 / 5000\n",
      "  2500 / 5000\n",
      "  2600 / 5000\n",
      "  2700 / 5000\n",
      "  2800 / 5000\n",
      "  2900 / 5000\n",
      "  3000 / 5000\n",
      "  3100 / 5000\n",
      "  3200 / 5000\n",
      "  3300 / 5000\n",
      "  3400 / 5000\n",
      "  3500 / 5000\n",
      "  3600 / 5000\n",
      "  3700 / 5000\n",
      "  3800 / 5000\n",
      "  3900 / 5000\n",
      "  4000 / 5000\n",
      "  4100 / 5000\n",
      "  4200 / 5000\n",
      "  4300 / 5000\n",
      "  4400 / 5000\n",
      "  4500 / 5000\n",
      "  4600 / 5000\n",
      "  4700 / 5000\n",
      "  4800 / 5000\n",
      "  4900 / 5000\n",
      "Computing kernel density on reference points\n",
      "  0 / 5000\n",
      "  100 / 5000\n",
      "  200 / 5000\n",
      "  300 / 5000\n",
      "  400 / 5000\n",
      "  500 / 5000\n",
      "  600 / 5000\n",
      "  700 / 5000\n",
      "  800 / 5000\n",
      "  900 / 5000\n",
      "  1000 / 5000\n",
      "  1100 / 5000\n",
      "  1200 / 5000\n",
      "  1300 / 5000\n",
      "  1400 / 5000\n",
      "  1500 / 5000\n",
      "  1600 / 5000\n",
      "  1700 / 5000\n",
      "  1800 / 5000\n",
      "  1900 / 5000\n",
      "  2000 / 5000\n",
      "  2100 / 5000\n",
      "  2200 / 5000\n",
      "  2300 / 5000\n",
      "  2400 / 5000\n",
      "  2500 / 5000\n",
      "  2600 / 5000\n",
      "  2700 / 5000\n",
      "  2800 / 5000\n",
      "  2900 / 5000\n",
      "  3000 / 5000\n",
      "  3100 / 5000\n",
      "  3200 / 5000\n",
      "  3300 / 5000\n",
      "  3400 / 5000\n",
      "  3500 / 5000\n",
      "  3600 / 5000\n",
      "  3700 / 5000\n",
      "  3800 / 5000\n",
      "  3900 / 5000\n",
      "  4000 / 5000\n",
      "  4100 / 5000\n",
      "  4200 / 5000\n",
      "  4300 / 5000\n",
      "  4400 / 5000\n",
      "  4500 / 5000\n",
      "  4600 / 5000\n",
      "  4700 / 5000\n",
      "  4800 / 5000\n",
      "  4900 / 5000\n",
      "Starting Quick-Shift\n",
      "  0 / 5000\n",
      "  2000 / 5000\n",
      "Nk-5 clusters were mergedinto other clusters.\n"
     ]
    }
   ],
   "source": [
    "result = runner.run(local_samples)"
   ]
  },
  {
   "cell_type": "code",
   "execution_count": 15,
   "metadata": {},
   "outputs": [
    {
     "name": "stdout",
     "output_type": "stream",
     "text": [
      "Bootstrap 1 / 64\n",
      "Starting Quick-Shift\n",
      "  0 / 5000\n",
      "  1000 / 5000\n",
      "  2000 / 5000\n",
      "5 cluster centers\n",
      "Bootstrap 2 / 64\n",
      "Starting Quick-Shift\n",
      "  0 / 5000\n",
      "  2000 / 5000\n",
      "7 cluster centers\n",
      "Bootstrap 3 / 64\n",
      "Starting Quick-Shift\n",
      "  0 / 5000\n",
      "  2000 / 5000\n",
      "9 cluster centers\n",
      "Bootstrap 4 / 64\n",
      "Starting Quick-Shift\n",
      "  0 / 5000\n",
      "  1000 / 5000\n",
      "  2000 / 5000\n",
      "5 cluster centers\n",
      "Bootstrap 5 / 64\n",
      "Starting Quick-Shift\n",
      "  0 / 5000\n",
      "  1000 / 5000\n",
      "  2000 / 5000\n",
      "7 cluster centers\n",
      "Bootstrap 6 / 64\n",
      "Starting Quick-Shift\n",
      "  0 / 5000\n",
      "6 cluster centers\n",
      "Bootstrap 7 / 64\n"
     ]
    },
    {
     "ename": "KeyboardInterrupt",
     "evalue": "",
     "output_type": "error",
     "traceback": [
      "\u001b[0;31m---------------------------------------------------------------------------\u001b[0m",
      "\u001b[0;31mKeyboardInterrupt\u001b[0m                         Traceback (most recent call last)",
      "\u001b[1;32m/home/qjxu/pamm/tutorials/tutorial.ipynb 单元格 13\u001b[0m line \u001b[0;36m1\n\u001b[0;32m----> <a href='vscode-notebook-cell://wsl%2Bubuntu/home/qjxu/pamm/tutorials/tutorial.ipynb#X22sdnNjb2RlLXJlbW90ZQ%3D%3D?line=0'>1</a>\u001b[0m \u001b[39mabs\u001b[39m, rel, bs \u001b[39m=\u001b[39m runner\u001b[39m.\u001b[39mbootstrap(\u001b[39m64\u001b[39m)\n",
      "File \u001b[0;32m~/pamm/tutorials/../pysrc/pamm.py:569\u001b[0m, in \u001b[0;36mPAMM.bootstrap\u001b[0;34m(self, nbootstrap)\u001b[0m\n\u001b[1;32m    567\u001b[0m \u001b[39mif\u001b[39;00m dummd1 \u001b[39m>\u001b[39m \u001b[39mself\u001b[39m\u001b[39m.\u001b[39mkdecut2:\n\u001b[1;32m    568\u001b[0m     lnk \u001b[39m=\u001b[39m \u001b[39m-\u001b[39m\u001b[39m0.5\u001b[39m \u001b[39m*\u001b[39m (\u001b[39mself\u001b[39m\u001b[39m.\u001b[39mnormkernel[j] \u001b[39m+\u001b[39m dummd1) \u001b[39m+\u001b[39m dummd2\n\u001b[0;32m--> 569\u001b[0m     prob_boot[n, i] \u001b[39m=\u001b[39m _update_prob(prob_boot[n, i], lnk)\n\u001b[1;32m    570\u001b[0m \u001b[39melse\u001b[39;00m:\n\u001b[1;32m    571\u001b[0m     select \u001b[39m=\u001b[39m np\u001b[39m.\u001b[39mrandom\u001b[39m.\u001b[39mchoice(\u001b[39mself\u001b[39m\u001b[39m.\u001b[39mgrid_npoints[j], nsample)\n",
      "File \u001b[0;32m~/miniconda3/envs/pamm/lib/python3.11/site-packages/numba/core/serialize.py:30\u001b[0m, in \u001b[0;36m_numba_unpickle\u001b[0;34m(address, bytedata, hashed)\u001b[0m\n\u001b[1;32m     26\u001b[0m \u001b[39m# Keep unpickled object via `numba_unpickle` alive.\u001b[39;00m\n\u001b[1;32m     27\u001b[0m _unpickled_memo \u001b[39m=\u001b[39m {}\n\u001b[0;32m---> 30\u001b[0m \u001b[39mdef\u001b[39;00m \u001b[39m_numba_unpickle\u001b[39m(address, bytedata, hashed):\n\u001b[1;32m     31\u001b[0m \u001b[39m    \u001b[39m\u001b[39m\"\"\"Used by `numba_unpickle` from _helperlib.c\u001b[39;00m\n\u001b[1;32m     32\u001b[0m \n\u001b[1;32m     33\u001b[0m \u001b[39m    Parameters\u001b[39;00m\n\u001b[0;32m   (...)\u001b[0m\n\u001b[1;32m     42\u001b[0m \u001b[39m        unpickled object\u001b[39;00m\n\u001b[1;32m     43\u001b[0m \u001b[39m    \"\"\"\u001b[39;00m\n\u001b[1;32m     44\u001b[0m     key \u001b[39m=\u001b[39m (address, hashed)\n",
      "\u001b[0;31mKeyboardInterrupt\u001b[0m: "
     ]
    }
   ],
   "source": [
    "abs, rel, bs = runner.bootstrap(64)  # also very time-consuming"
   ]
  },
  {
   "cell_type": "code",
   "execution_count": null,
   "metadata": {},
   "outputs": [],
   "source": []
  }
 ],
 "metadata": {
  "kernelspec": {
   "display_name": "pamm",
   "language": "python",
   "name": "python3"
  },
  "language_info": {
   "codemirror_mode": {
    "name": "ipython",
    "version": 3
   },
   "file_extension": ".py",
   "mimetype": "text/x-python",
   "name": "python",
   "nbconvert_exporter": "python",
   "pygments_lexer": "ipython3",
   "version": "3.11.5"
  }
 },
 "nbformat": 4,
 "nbformat_minor": 2
}
