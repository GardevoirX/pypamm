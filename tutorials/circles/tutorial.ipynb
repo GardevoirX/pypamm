{
 "cells": [
  {
   "cell_type": "code",
   "execution_count": 1,
   "metadata": {},
   "outputs": [],
   "source": [
    "import sys\n",
    "sys.path.append('../..')\n",
    "import numpy as np\n",
    "from pysrc.pamm import PAMM"
   ]
  },
  {
   "cell_type": "code",
   "execution_count": 2,
   "metadata": {},
   "outputs": [],
   "source": [
    "runner = PAMM(dimension=2,\n",
    "              ngrid=2000,\n",
    "              gridfile='ref.idxs',\n",
    "              fspread=0.15,\n",
    "              qs=0.95,\n",
    "              outputfile='fs0.15-qs0.95',\n",
    "              verbose=True)"
   ]
  },
  {
   "cell_type": "code",
   "execution_count": 3,
   "metadata": {},
   "outputs": [],
   "source": [
    "descriptors = np.loadtxt('data-rings.dat')"
   ]
  },
  {
   "cell_type": "code",
   "execution_count": 4,
   "metadata": {},
   "outputs": [
    {
     "name": "stdout",
     "output_type": "stream",
     "text": [
      " Precalculate distance matrix between grid points\n",
      "Global eff. dim. 1.9999979632895026\n",
      "Estimating kernel density bandwidths\n",
      "  0 / 2000\n",
      "  100 / 2000\n",
      "  200 / 2000\n",
      "  300 / 2000\n",
      "  400 / 2000\n",
      "  500 / 2000\n",
      "  600 / 2000\n",
      "  700 / 2000\n",
      "  800 / 2000\n",
      "  900 / 2000\n",
      "  1000 / 2000\n",
      "  1100 / 2000\n",
      "  1200 / 2000\n",
      "  1300 / 2000\n",
      "  1400 / 2000\n",
      "  1500 / 2000\n",
      "  1600 / 2000\n",
      "  1700 / 2000\n",
      "  1800 / 2000\n",
      "  1900 / 2000\n",
      "Computing kernel density on reference points\n",
      "  0 / 2000\n",
      "  100 / 2000\n",
      "  200 / 2000\n",
      "  300 / 2000\n",
      "  400 / 2000\n",
      "  500 / 2000\n",
      "  600 / 2000\n",
      "  700 / 2000\n",
      "  800 / 2000\n",
      "  900 / 2000\n",
      "  1000 / 2000\n",
      "  1100 / 2000\n",
      "  1200 / 2000\n",
      "  1300 / 2000\n",
      "  1400 / 2000\n",
      "  1500 / 2000\n",
      "  1600 / 2000\n",
      "  1700 / 2000\n",
      "  1800 / 2000\n",
      "  1900 / 2000\n",
      "Starting Quick-Shift\n",
      "  0 / 2000\n",
      "  1000 / 2000\n",
      "Nk-35 clusters were mergedinto other clusters.\n"
     ]
    }
   ],
   "source": [
    "result = runner.run(descriptors)"
   ]
  },
  {
   "cell_type": "code",
   "execution_count": 6,
   "metadata": {},
   "outputs": [],
   "source": [
    "runner.get_output('output-rings.dat')"
   ]
  },
  {
   "cell_type": "code",
   "execution_count": null,
   "metadata": {},
   "outputs": [],
   "source": []
  }
 ],
 "metadata": {
  "kernelspec": {
   "display_name": "pamm",
   "language": "python",
   "name": "python3"
  },
  "language_info": {
   "codemirror_mode": {
    "name": "ipython",
    "version": 3
   },
   "file_extension": ".py",
   "mimetype": "text/x-python",
   "name": "python",
   "nbconvert_exporter": "python",
   "pygments_lexer": "ipython3",
   "version": "3.11.5"
  }
 },
 "nbformat": 4,
 "nbformat_minor": 2
}
