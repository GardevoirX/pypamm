{
 "cells": [
  {
   "cell_type": "code",
   "execution_count": 1,
   "metadata": {},
   "outputs": [],
   "source": [
    "import sys\n",
    "sys.path.append('../..')\n",
    "import numpy as np\n",
    "from pysrc.pamm import PAMM"
   ]
  },
  {
   "cell_type": "markdown",
   "metadata": {},
   "source": [
    "# GLOBAL"
   ]
  },
  {
   "cell_type": "code",
   "execution_count": 2,
   "metadata": {},
   "outputs": [],
   "source": [
    "descriptors = np.loadtxt('traj9.cv')"
   ]
  },
  {
   "cell_type": "code",
   "execution_count": 3,
   "metadata": {},
   "outputs": [],
   "source": [
    "grid = np.loadtxt('ref.idxs', dtype=int)[:20000] - 1"
   ]
  },
  {
   "cell_type": "code",
   "execution_count": 12,
   "metadata": {},
   "outputs": [],
   "source": [
    "runner = PAMM(descriptors,\n",
    "              dimension=15,\n",
    "              ngrid=20000,\n",
    "              fpoints=0.05,\n",
    "              qs=1,\n",
    "              outputfile='fp0.05-qs1',\n",
    "              verbose=True)"
   ]
  },
  {
   "cell_type": "code",
   "execution_count": 14,
   "metadata": {},
   "outputs": [
    {
     "data": {
      "application/vnd.jupyter.widget-view+json": {
       "model_id": "59523f116d944624ad2c3deb49a08ac1",
       "version_major": 2,
       "version_minor": 0
      },
      "text/plain": [
       "Output()"
      ]
     },
     "metadata": {},
     "output_type": "display_data"
    },
    {
     "name": "stderr",
     "output_type": "stream",
     "text": [
      "/home/qjxu/pamm/tutorials/lj38/../../pysrc/utils/_pamm.py:169: RuntimeWarning: divide by zero encountered in log\n",
      "  eigval *= np.log(eigval)\n",
      "/home/qjxu/pamm/tutorials/lj38/../../pysrc/utils/_pamm.py:169: RuntimeWarning: invalid value encountered in multiply\n",
      "  eigval *= np.log(eigval)\n"
     ]
    },
    {
     "name": "stdout",
     "output_type": "stream",
     "text": [
      "Global eff. dim. 5.057207748912654\n"
     ]
    },
    {
     "data": {
      "text/html": [
       "<pre style=\"white-space:pre;overflow-x:auto;line-height:normal;font-family:Menlo,'DejaVu Sans Mono',consolas,'Courier New',monospace\">/home/qjxu/pamm/tutorials/lj38/../../pysrc/utils/_pamm.py:169: RuntimeWarning: divide by zero encountered in log\n",
       "  eigval *= np.log(eigval)\n",
       "</pre>\n"
      ],
      "text/plain": [
       "/home/qjxu/pamm/tutorials/lj38/../../pysrc/utils/_pamm.py:169: RuntimeWarning: divide by zero encountered in log\n",
       "  eigval *= np.log(eigval)\n"
      ]
     },
     "metadata": {},
     "output_type": "display_data"
    },
    {
     "data": {
      "text/html": [
       "<pre style=\"white-space:pre;overflow-x:auto;line-height:normal;font-family:Menlo,'DejaVu Sans Mono',consolas,'Courier New',monospace\">/home/qjxu/pamm/tutorials/lj38/../../pysrc/utils/_pamm.py:169: RuntimeWarning: invalid value encountered in \n",
       "multiply\n",
       "  eigval *= np.log(eigval)\n",
       "</pre>\n"
      ],
      "text/plain": [
       "/home/qjxu/pamm/tutorials/lj38/../../pysrc/utils/_pamm.py:169: RuntimeWarning: invalid value encountered in \n",
       "multiply\n",
       "  eigval *= np.log(eigval)\n"
      ]
     },
     "metadata": {},
     "output_type": "display_data"
    }
   ],
   "source": [
    "runner.fit(grid)"
   ]
  },
  {
   "cell_type": "code",
   "execution_count": 5,
   "metadata": {},
   "outputs": [],
   "source": [
    "runner.get_output('lj38.grid')"
   ]
  },
  {
   "cell_type": "markdown",
   "metadata": {},
   "source": [
    "# LOCAL"
   ]
  },
  {
   "cell_type": "code",
   "execution_count": 2,
   "metadata": {},
   "outputs": [],
   "source": [
    "descriptors = np.loadtxt('/home/qjxu/pamm/examples/lj38/LOCAL/scalededata')"
   ]
  },
  {
   "cell_type": "code",
   "execution_count": 3,
   "metadata": {},
   "outputs": [
    {
     "data": {
      "text/plain": [
       "(7980038, 3)"
      ]
     },
     "execution_count": 3,
     "metadata": {},
     "output_type": "execute_result"
    }
   ],
   "source": [
    "descriptors.shape"
   ]
  },
  {
   "cell_type": "code",
   "execution_count": 4,
   "metadata": {},
   "outputs": [],
   "source": [
    "grid = np.loadtxt('ref_local.idxs', dtype=int)[:12000] - 1"
   ]
  },
  {
   "cell_type": "code",
   "execution_count": 5,
   "metadata": {},
   "outputs": [],
   "source": [
    "runner = PAMM(descriptors,\n",
    "              dimension=3,\n",
    "              ngrid=12000,\n",
    "              fpoints=0.02,\n",
    "              qs=1,\n",
    "              outputfile='fp0.02-qs1',\n",
    "              verbose=True)"
   ]
  },
  {
   "cell_type": "code",
   "execution_count": 6,
   "metadata": {},
   "outputs": [
    {
     "data": {
      "application/vnd.jupyter.widget-view+json": {
       "model_id": "edcbb2bc1b8e4252b8adb9f018fae33d",
       "version_major": 2,
       "version_minor": 0
      },
      "text/plain": [
       "Output()"
      ]
     },
     "metadata": {},
     "output_type": "display_data"
    }
   ],
   "source": [
    "runner.fit(grid)"
   ]
  },
  {
   "cell_type": "code",
   "execution_count": 6,
   "metadata": {},
   "outputs": [],
   "source": [
    "runner.get_output('lj38_local.grid')"
   ]
  },
  {
   "cell_type": "code",
   "execution_count": null,
   "metadata": {},
   "outputs": [],
   "source": []
  }
 ],
 "metadata": {
  "kernelspec": {
   "display_name": "pamm",
   "language": "python",
   "name": "python3"
  },
  "language_info": {
   "codemirror_mode": {
    "name": "ipython",
    "version": 3
   },
   "file_extension": ".py",
   "mimetype": "text/x-python",
   "name": "python",
   "nbconvert_exporter": "python",
   "pygments_lexer": "ipython3",
   "version": "3.11.7"
  }
 },
 "nbformat": 4,
 "nbformat_minor": 2
}
